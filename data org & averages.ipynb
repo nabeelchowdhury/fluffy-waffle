{
 "cells": [
  {
   "cell_type": "code",
   "execution_count": 1,
   "metadata": {},
   "outputs": [
    {
     "name": "stdout",
     "output_type": "stream",
     "text": [
      "Average Radiation Level: 16.6\n"
     ]
    }
   ],
   "source": [
    "radiation_levels = [15, 18, 20, 14, 16]\n",
    "\n",
    "#Using a loop to calculate the total\n",
    "total = 0\n",
    "for level in radiation_levels:\n",
    "    total += level\n",
    "average = total / len(radiation_levels)\n",
    "\n",
    "print(\"Average Radiation Level:\", average)\n"
   ]
  },
  {
   "cell_type": "code",
   "execution_count": 2,
   "metadata": {},
   "outputs": [
    {
     "name": "stdout",
     "output_type": "stream",
     "text": [
      "Urban Average Radiation Level: 20.0\n",
      "Forest Average Radiation Level: 13.666666666666666\n"
     ]
    }
   ],
   "source": [
    "#Calculate and display average radiation levels for each location\n",
    "locations = {'Urban': [ 18,20,22], 'Forest': [12,14,15]}\n",
    "def calculate_average(levels):\n",
    "    return sum(levels) / len(levels)\n",
    "for location, levels in locations.items():\n",
    "    print(f\"{location} Average Radiation Level: {calculate_average(levels)}\")\n"
   ]
  },
  {
   "cell_type": "code",
   "execution_count": 5,
   "metadata": {},
   "outputs": [
    {
     "name": "stdout",
     "output_type": "stream",
     "text": [
      "Invalid input, please try again.\n"
     ]
    }
   ],
   "source": [
    "#data entry loop allowing continuous addition of new measurements\n",
    "measurements = []\n",
    "while True:\n",
    "    level = input(\"Enter radiation level or 'done' to finish: \")\n",
    "    if level.lower() == 'done':\n",
    "        break\n",
    "    try:\n",
    "        measurements.append(int(level))\n",
    "    except ValueError:\n",
    "        print(\"Invalid input, please try again.\")\n"
   ]
  }
 ],
 "metadata": {
  "kernelspec": {
   "display_name": "Python 3",
   "language": "python",
   "name": "python3"
  },
  "language_info": {
   "codemirror_mode": {
    "name": "ipython",
    "version": 3
   },
   "file_extension": ".py",
   "mimetype": "text/x-python",
   "name": "python",
   "nbconvert_exporter": "python",
   "pygments_lexer": "ipython3",
   "version": "3.9.13"
  }
 },
 "nbformat": 4,
 "nbformat_minor": 2
}
